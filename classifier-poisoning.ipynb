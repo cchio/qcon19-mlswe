{
 "cells": [
  {
   "cell_type": "code",
   "execution_count": null,
   "metadata": {},
   "outputs": [],
   "source": [
    "import numpy as np\n",
    "from sklearn.neural_network import MLPClassifier\n",
    "from sklearn.datasets import make_classification\n",
    "import matplotlib.pyplot as plt\n",
    "import seaborn as sns\n",
    "\n",
    "sns.set(style=\"white\")\n",
    "%matplotlib inline"
   ]
  },
  {
   "cell_type": "code",
   "execution_count": null,
   "metadata": {},
   "outputs": [],
   "source": [
    "X, y = make_classification(n_samples=200, n_features=2, n_informative=2, n_redundant=0, weights=[.5, .5], random_state=17)\n",
    "clf = MLPClassifier(max_iter=600, random_state=123).fit(X[:100], y[:100])"
   ]
  },
  {
   "cell_type": "code",
   "execution_count": null,
   "metadata": {},
   "outputs": [],
   "source": [
    "xx, yy = np.mgrid[-3:3:.01, -3:3:.01]\n",
    "grid = np.c_[xx.ravel(), yy.ravel()]\n",
    "probs = clf.predict_proba(grid)[:, 1].reshape(xx.shape)"
   ]
  },
  {
   "cell_type": "code",
   "execution_count": null,
   "metadata": {},
   "outputs": [],
   "source": [
    "f, ax = plt.subplots(figsize=(12, 9))\n",
    "contour = ax.contourf(xx, yy, probs, 25, cmap=\"RdBu\",\n",
    "                      vmin=0, vmax=1)\n",
    "ax_c = f.colorbar(contour)\n",
    "ax_c.set_label(\"$P(y = 1)$\")\n",
    "ax_c.set_ticks([0, .25, .5, .75, 1])\n",
    "\n",
    "ax.scatter(X[100:,0], X[100:, 1], c=y[100:], s=50,\n",
    "           cmap=\"RdBu\", vmin=-.2, vmax=1.2,\n",
    "           edgecolor=\"white\", linewidth=1)\n",
    "\n",
    "ax.set(aspect=\"equal\",\n",
    "       xlim=(-3, 3), ylim=(-3, 3))"
   ]
  },
  {
   "cell_type": "code",
   "execution_count": null,
   "metadata": {},
   "outputs": [],
   "source": [
    "def plot_decision_boundary(X_orig, y_orig, probs_orig, chaff_X=None, chaff_y=None, probs_poisoned=None):\n",
    "    f, ax = plt.subplots(figsize=(12, 9))\n",
    "\n",
    "    ax.scatter(X_orig[100:,0], X_orig[100:, 1], \n",
    "               c=y_orig[100:], s=50, cmap=\"gray\",\n",
    "               edgecolor=\"black\", linewidth=1)\n",
    "    \n",
    "    if all([(chaff_X is not None),\n",
    "            (chaff_y is not None),\n",
    "            (probs_poisoned is not None)]):\n",
    "        ax.scatter(chaff_X[:,0], chaff_X[:, 1], \n",
    "                   c=chaff_y, s=50, cmap=\"gray\", \n",
    "                   marker=\"*\", edgecolor=\"black\", linewidth=1)\n",
    "        ax.contour(xx, yy, probs_orig, levels=[.5], \n",
    "                   cmap=\"gray\", vmin=0, vmax=.8)\n",
    "        ax.contour(xx, yy, probs_poisoned, levels=[.5], \n",
    "                   cmap=\"gray\")\n",
    "    else:\n",
    "        ax.contour(xx, yy, probs_orig, levels=[.5], cmap=\"gray\")\n",
    "\n",
    "    ax.set(aspect=\"equal\", xlim=(-3, 3), ylim=(-3, 3))"
   ]
  },
  {
   "cell_type": "code",
   "execution_count": null,
   "metadata": {},
   "outputs": [],
   "source": []
  }
 ],
 "metadata": {
  "kernelspec": {
   "display_name": "Python 3",
   "language": "python",
   "name": "python3"
  },
  "language_info": {
   "codemirror_mode": {
    "name": "ipython",
    "version": 3
   },
   "file_extension": ".py",
   "mimetype": "text/x-python",
   "name": "python",
   "nbconvert_exporter": "python",
   "pygments_lexer": "ipython3",
   "version": "3.7.6"
  }
 },
 "nbformat": 4,
 "nbformat_minor": 2
}
